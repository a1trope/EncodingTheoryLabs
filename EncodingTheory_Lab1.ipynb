{
  "nbformat": 4,
  "nbformat_minor": 0,
  "metadata": {
    "colab": {
      "provenance": []
    },
    "kernelspec": {
      "name": "python3",
      "display_name": "Python 3"
    },
    "language_info": {
      "name": "python"
    }
  },
  "cells": [
    {
      "cell_type": "code",
      "execution_count": 21,
      "metadata": {
        "id": "LUNC0tSsnkYH"
      },
      "outputs": [],
      "source": [
        "import numpy as np"
      ]
    },
    {
      "cell_type": "markdown",
      "source": [
        "## 1.1 Реализовать функцию REF(), приводящую матрицу к ступенчатому виду."
      ],
      "metadata": {
        "id": "bSSGhoX--yUj"
      }
    },
    {
      "cell_type": "code",
      "source": [
        "def ref(matrix):\n",
        "    matrix = matrix.copy()\n",
        "\n",
        "    # Получаем размер матрицы\n",
        "    rows, cols = matrix.shape\n",
        "\n",
        "    # Индекс строки, с которой начинаем приведение\n",
        "    lead = 0\n",
        "\n",
        "    for r in range(rows):\n",
        "        if lead >= cols:\n",
        "            return matrix\n",
        "        i = r\n",
        "        while matrix[i, lead] == 0:\n",
        "            i += 1\n",
        "            if i == rows:\n",
        "                i = r\n",
        "                lead += 1\n",
        "                if lead == cols:\n",
        "                    return matrix\n",
        "        # Меняем строки местами, если текущая строка не имеет ведущего элемента\n",
        "        matrix[[i, r]] = matrix[[r, i]]\n",
        "\n",
        "        # Обнуляем элементы ниже текущей строки в столбце с ведущим элементом\n",
        "        for i in range(r + 1, rows):\n",
        "            matrix[i] = matrix[i] ^ (matrix[r] * matrix[i, lead])\n",
        "\n",
        "        lead += 1\n",
        "\n",
        "    return matrix"
      ],
      "metadata": {
        "id": "RevQoFjlsG60"
      },
      "execution_count": 22,
      "outputs": []
    },
    {
      "cell_type": "code",
      "source": [
        "m = np.array(\n",
        "    [\n",
        "        [1, 0, 1, 1, 0, 0, 0, 1, 0, 0, 1],\n",
        "        [0, 0, 0, 1, 1, 1, 0, 1, 0, 1, 0],\n",
        "        [0, 0, 0, 0, 1, 0, 0, 1, 0, 0, 1],\n",
        "        [1, 0, 1, 0, 1, 1, 1, 0, 0, 0, 1],\n",
        "        [0, 0, 0, 0, 1, 0, 0, 1, 1, 1, 0],\n",
        "        [1, 0, 1, 1, 1, 0, 0, 0, 0, 0, 0],\n",
        "    ]\n",
        ")\n",
        "ref(m)"
      ],
      "metadata": {
        "colab": {
          "base_uri": "https://localhost:8080/"
        },
        "id": "fYB-rXGslPzd",
        "outputId": "303d4ec6-7b11-4ac4-8403-25415d75a4d3"
      },
      "execution_count": 23,
      "outputs": [
        {
          "output_type": "execute_result",
          "data": {
            "text/plain": [
              "array([[1, 0, 1, 1, 0, 0, 0, 1, 0, 0, 1],\n",
              "       [0, 0, 0, 1, 1, 1, 0, 1, 0, 1, 0],\n",
              "       [0, 0, 0, 0, 1, 0, 0, 1, 0, 0, 1],\n",
              "       [0, 0, 0, 0, 0, 0, 1, 0, 0, 1, 0],\n",
              "       [0, 0, 0, 0, 0, 0, 0, 0, 1, 1, 1],\n",
              "       [0, 0, 0, 0, 0, 0, 0, 0, 0, 0, 0]])"
            ]
          },
          "metadata": {},
          "execution_count": 23
        }
      ]
    },
    {
      "cell_type": "code",
      "source": [
        "m"
      ],
      "metadata": {
        "colab": {
          "base_uri": "https://localhost:8080/"
        },
        "id": "CpcPRxc59QDJ",
        "outputId": "96a5f6cc-fb22-4bf1-8841-175dbba7441f"
      },
      "execution_count": 24,
      "outputs": [
        {
          "output_type": "execute_result",
          "data": {
            "text/plain": [
              "array([[1, 0, 1, 1, 0, 0, 0, 1, 0, 0, 1],\n",
              "       [0, 0, 0, 1, 1, 1, 0, 1, 0, 1, 0],\n",
              "       [0, 0, 0, 0, 1, 0, 0, 1, 0, 0, 1],\n",
              "       [1, 0, 1, 0, 1, 1, 1, 0, 0, 0, 1],\n",
              "       [0, 0, 0, 0, 1, 0, 0, 1, 1, 1, 0],\n",
              "       [1, 0, 1, 1, 1, 0, 0, 0, 0, 0, 0]])"
            ]
          },
          "metadata": {},
          "execution_count": 24
        }
      ]
    },
    {
      "cell_type": "markdown",
      "source": [
        "## 1.2. Реализовать функцию RREF(), приводящую матрицу к приведённому ступенчатому виду."
      ],
      "metadata": {
        "id": "iW8LHyvR--pU"
      }
    },
    {
      "cell_type": "code",
      "source": [
        "def rref(matrix):\n",
        "    # Сначала приводим матрицу к ступенчатому виду\n",
        "    matrix = ref(matrix)\n",
        "\n",
        "    rows, cols = matrix.shape\n",
        "\n",
        "    # Проходим сверху вниз и обнуляем элементы выше ведущих элементов\n",
        "    for r in range(rows - 1, -1, -1):\n",
        "        lead = np.argmax(matrix[r] != 0)\n",
        "        if matrix[r, lead] == 1:\n",
        "            # Обнуляем элементы выше ведущего\n",
        "            for i in range(r - 1, -1, -1):\n",
        "                matrix[i] = matrix[i] ^ (matrix[r] * matrix[i, lead])\n",
        "\n",
        "    # Проверяем, являются ли строки ненулевыми\n",
        "    non_zero_rows = np.any(matrix != 0, axis=1)\n",
        "    # Возвращаем только строки, которые содержат хотя бы один ненулевой элемент\n",
        "    return matrix[non_zero_rows]"
      ],
      "metadata": {
        "id": "pn1TyzAhnbWX"
      },
      "execution_count": 25,
      "outputs": []
    },
    {
      "cell_type": "code",
      "source": [
        "rref(m)"
      ],
      "metadata": {
        "colab": {
          "base_uri": "https://localhost:8080/"
        },
        "id": "cTICTqyRnjcI",
        "outputId": "56b5af2f-70b3-46df-b27d-0c0e96e09539"
      },
      "execution_count": 26,
      "outputs": [
        {
          "output_type": "execute_result",
          "data": {
            "text/plain": [
              "array([[1, 0, 1, 0, 0, 1, 0, 1, 0, 1, 0],\n",
              "       [0, 0, 0, 1, 0, 1, 0, 0, 0, 1, 1],\n",
              "       [0, 0, 0, 0, 1, 0, 0, 1, 0, 0, 1],\n",
              "       [0, 0, 0, 0, 0, 0, 1, 0, 0, 1, 0],\n",
              "       [0, 0, 0, 0, 0, 0, 0, 0, 1, 1, 1]])"
            ]
          },
          "metadata": {},
          "execution_count": 26
        }
      ]
    },
    {
      "cell_type": "markdown",
      "source": [
        "## 1.3. Создать класс линейных кодов LinearCode."
      ],
      "metadata": {
        "id": "AVq1w7MW_HND"
      }
    },
    {
      "cell_type": "code",
      "source": [
        "class LinearCode:\n",
        "    pass"
      ],
      "metadata": {
        "id": "mIF8BdX38feY"
      },
      "execution_count": 27,
      "outputs": []
    },
    {
      "cell_type": "markdown",
      "source": [
        "### 1.3.1 На основе входной матрицы сформировать порождающую матрицу в ступенчатом виде."
      ],
      "metadata": {
        "id": "GIotjEpe_KPK"
      }
    },
    {
      "cell_type": "code",
      "source": [
        "S = np.array(\n",
        "    [\n",
        "        [1, 0, 1, 1, 0, 0, 0, 1, 0, 0, 1],\n",
        "        [0, 0, 0, 1, 1, 1, 0, 1, 0, 1, 0],\n",
        "        [0, 0, 0, 0, 1, 0, 0, 1, 0, 0, 1],\n",
        "        [1, 0, 1, 0, 1, 1, 1, 0, 0, 0, 1],\n",
        "        [0, 0, 0, 0, 1, 0, 0, 1, 1, 1, 0],\n",
        "        [1, 0, 1, 1, 1, 0, 0, 0, 0, 0, 0],\n",
        "    ]\n",
        ")\n",
        "\n",
        "S_ref = ref(S)"
      ],
      "metadata": {
        "id": "zZ29AvTy8lGs"
      },
      "execution_count": 28,
      "outputs": []
    },
    {
      "cell_type": "code",
      "source": [
        "S_ref"
      ],
      "metadata": {
        "colab": {
          "base_uri": "https://localhost:8080/"
        },
        "id": "G4yOlYwz9S82",
        "outputId": "6c9e7580-e2d0-43f8-b606-eafa88bac419"
      },
      "execution_count": 29,
      "outputs": [
        {
          "output_type": "execute_result",
          "data": {
            "text/plain": [
              "array([[1, 0, 1, 1, 0, 0, 0, 1, 0, 0, 1],\n",
              "       [0, 0, 0, 1, 1, 1, 0, 1, 0, 1, 0],\n",
              "       [0, 0, 0, 0, 1, 0, 0, 1, 0, 0, 1],\n",
              "       [0, 0, 0, 0, 0, 0, 1, 0, 0, 1, 0],\n",
              "       [0, 0, 0, 0, 0, 0, 0, 0, 1, 1, 1],\n",
              "       [0, 0, 0, 0, 0, 0, 0, 0, 0, 0, 0]])"
            ]
          },
          "metadata": {},
          "execution_count": 29
        }
      ]
    },
    {
      "cell_type": "markdown",
      "source": [
        "### 1.3.2 Задать n равное числу столбцов и k равное числу строк полученной матрицы (без учёта полностью нулевых строк)."
      ],
      "metadata": {
        "id": "xkNbiq1F_Pnj"
      }
    },
    {
      "cell_type": "code",
      "source": [
        "G = np.array(\n",
        "    [\n",
        "        [1, 0, 1, 1, 0, 0, 0, 1, 0, 0, 1],\n",
        "        [0, 0, 0, 1, 1, 1, 0, 1, 0, 1, 0],\n",
        "        [0, 0, 0, 0, 1, 0, 0, 1, 0, 0, 1],\n",
        "        [0, 0, 0, 0, 0, 0, 1, 0, 0, 1, 0],\n",
        "        [0, 0, 0, 0, 0, 0, 0, 0, 1, 1, 1],\n",
        "    ]\n",
        ")\n",
        "\n",
        "n, k = G.shape\n",
        "print(f\"{n=}\\n{k=}\")"
      ],
      "metadata": {
        "colab": {
          "base_uri": "https://localhost:8080/"
        },
        "id": "hsDvVBus9crq",
        "outputId": "ba9dce21-b797-44bb-fc9c-89d19aaafc93"
      },
      "execution_count": 30,
      "outputs": [
        {
          "output_type": "stream",
          "name": "stdout",
          "text": [
            "n=5\n",
            "k=11\n"
          ]
        }
      ]
    },
    {
      "cell_type": "markdown",
      "source": [
        "### 1.3.3 Сформировать проверочную матрицу на основе порождающей."
      ],
      "metadata": {
        "id": "BAtSsb-K_UEL"
      }
    },
    {
      "cell_type": "markdown",
      "source": [
        "#### Шаг 1. Сформировать матрицу 𝐆∗ в приведённом ступенчатом видена основе порождающей."
      ],
      "metadata": {
        "id": "NtmXPRwh_oHb"
      }
    },
    {
      "cell_type": "code",
      "source": [
        "G_s = rref(G)\n",
        "G_s"
      ],
      "metadata": {
        "colab": {
          "base_uri": "https://localhost:8080/"
        },
        "id": "gLURTm5E9x_w",
        "outputId": "3a603a22-648c-42cd-d6f5-c470d38e1807"
      },
      "execution_count": 31,
      "outputs": [
        {
          "output_type": "execute_result",
          "data": {
            "text/plain": [
              "array([[1, 0, 1, 0, 0, 1, 0, 1, 0, 1, 0],\n",
              "       [0, 0, 0, 1, 0, 1, 0, 0, 0, 1, 1],\n",
              "       [0, 0, 0, 0, 1, 0, 0, 1, 0, 0, 1],\n",
              "       [0, 0, 0, 0, 0, 0, 1, 0, 0, 1, 0],\n",
              "       [0, 0, 0, 0, 0, 0, 0, 0, 1, 1, 1]])"
            ]
          },
          "metadata": {},
          "execution_count": 31
        }
      ]
    },
    {
      "cell_type": "markdown",
      "source": [
        "#### Шаг 2. Зафиксировать ведущие столбцы lead матрицы 𝐆∗."
      ],
      "metadata": {
        "id": "2a6OUFgx_uDk"
      }
    },
    {
      "cell_type": "code",
      "source": [
        "def find_lead_cols(matrix):\n",
        "    leading_columns = []\n",
        "    rows, cols = matrix.shape\n",
        "\n",
        "    for r in range(rows):\n",
        "        # Находим индекс первого ненулевого элемента в строке\n",
        "        for c in range(cols):\n",
        "            if matrix[r, c] != 0:\n",
        "                leading_columns.append(c)\n",
        "                break  # Переходим к следующей строке после нахождения ведущего столбца\n",
        "\n",
        "    return sorted(set(leading_columns))\n",
        "\n",
        "lead_cols = find_lead_cols(G_s)\n",
        "print(lead_cols)"
      ],
      "metadata": {
        "colab": {
          "base_uri": "https://localhost:8080/"
        },
        "id": "1hWyc5dV_VkJ",
        "outputId": "2b8c1464-7ee0-4b29-eb65-383e8586351b"
      },
      "execution_count": 32,
      "outputs": [
        {
          "output_type": "stream",
          "name": "stdout",
          "text": [
            "[0, 3, 4, 6, 8]\n"
          ]
        }
      ]
    },
    {
      "cell_type": "markdown",
      "source": [
        "#### Шаг 3. Сформировать сокращённую матрицу 𝐗, удалив ведущие столбцы матрицы 𝐆∗."
      ],
      "metadata": {
        "id": "Kd1OEUcQ_zkk"
      }
    },
    {
      "cell_type": "code",
      "source": [
        "X = np.delete(G_s, lead_cols, axis=1)\n",
        "X"
      ],
      "metadata": {
        "colab": {
          "base_uri": "https://localhost:8080/"
        },
        "id": "aHVjKR3G_2Nz",
        "outputId": "a6cf5f26-d7d0-48aa-baf0-ac2985cdaff0"
      },
      "execution_count": 33,
      "outputs": [
        {
          "output_type": "execute_result",
          "data": {
            "text/plain": [
              "array([[0, 1, 1, 1, 1, 0],\n",
              "       [0, 0, 1, 0, 1, 1],\n",
              "       [0, 0, 0, 1, 0, 1],\n",
              "       [0, 0, 0, 0, 1, 0],\n",
              "       [0, 0, 0, 0, 1, 1]])"
            ]
          },
          "metadata": {},
          "execution_count": 33
        }
      ]
    },
    {
      "cell_type": "markdown",
      "source": [
        "#### Шаг 4. Сформировать матрицу 𝐇, поместив в строки, соответствующие позициям ведущих столбцов строки из 𝐗, а в остальные – строки единичной матрицы."
      ],
      "metadata": {
        "id": "UAXbGI-C_5iM"
      }
    },
    {
      "cell_type": "code",
      "source": [
        "H = np.zeros((X.shape[0] + max(X.shape), X.shape[1]), dtype=int)\n",
        "ones = np.eye(max(X.shape), dtype=int)"
      ],
      "metadata": {
        "id": "4_FZvyWrE_PO"
      },
      "execution_count": 34,
      "outputs": []
    },
    {
      "cell_type": "code",
      "source": [
        "x_ind = 0\n",
        "ones_ind = 0\n",
        "\n",
        "for i in range(H.shape[0]):\n",
        "    if i in lead_cols:\n",
        "        H[i] = X[x_ind]\n",
        "        x_ind += 1\n",
        "    else:\n",
        "        H[i] = ones[ones_ind]\n",
        "        ones_ind += 1"
      ],
      "metadata": {
        "id": "uJG4YoGX_8tF"
      },
      "execution_count": 35,
      "outputs": []
    },
    {
      "cell_type": "code",
      "source": [
        "H"
      ],
      "metadata": {
        "id": "P6OUOj5FGgtl",
        "outputId": "8f9834be-5974-4726-d809-dcf26976c298",
        "colab": {
          "base_uri": "https://localhost:8080/"
        }
      },
      "execution_count": 36,
      "outputs": [
        {
          "output_type": "execute_result",
          "data": {
            "text/plain": [
              "array([[0, 1, 1, 1, 1, 0],\n",
              "       [1, 0, 0, 0, 0, 0],\n",
              "       [0, 1, 0, 0, 0, 0],\n",
              "       [0, 0, 1, 0, 1, 1],\n",
              "       [0, 0, 0, 1, 0, 1],\n",
              "       [0, 0, 1, 0, 0, 0],\n",
              "       [0, 0, 0, 0, 1, 0],\n",
              "       [0, 0, 0, 1, 0, 0],\n",
              "       [0, 0, 0, 0, 1, 1],\n",
              "       [0, 0, 0, 0, 1, 0],\n",
              "       [0, 0, 0, 0, 0, 1]])"
            ]
          },
          "metadata": {},
          "execution_count": 36
        }
      ]
    },
    {
      "cell_type": "markdown",
      "source": [
        "# 1.4 Сформировать все кодовые слова длины n двумя способами."
      ],
      "metadata": {
        "id": "wZGMvDD8Bqk5"
      }
    },
    {
      "cell_type": "markdown",
      "source": [
        "## 1.4.1 Сложить все слова из порождающего множества, оставить неповторяющиеся"
      ],
      "metadata": {
        "id": "ngIm3WbsKFdz"
      }
    },
    {
      "cell_type": "code",
      "source": [
        "from itertools import combinations\n",
        "\n",
        "def generate_codewords_by_sum(G):\n",
        "    codewords = []\n",
        "    for r in range(1, G.shape[0] + 1):\n",
        "        for subset in combinations(G, r):\n",
        "            codeword = np.bitwise_xor.reduce(subset) % 2\n",
        "            codewords.append(tuple(codeword))\n",
        "    return np.array(list(set(codewords)))\n",
        "\n",
        "generate_codewords_by_sum(G)"
      ],
      "metadata": {
        "colab": {
          "base_uri": "https://localhost:8080/"
        },
        "id": "X3KrmlGHHBro",
        "outputId": "53219804-2fcc-449e-e3a3-0fb38f5dae09"
      },
      "execution_count": 37,
      "outputs": [
        {
          "output_type": "execute_result",
          "data": {
            "text/plain": [
              "array([[0, 0, 0, 0, 0, 0, 1, 0, 0, 1, 0],\n",
              "       [0, 0, 0, 1, 1, 1, 1, 1, 1, 1, 1],\n",
              "       [1, 0, 1, 0, 1, 1, 0, 0, 1, 0, 0],\n",
              "       [0, 0, 0, 0, 0, 0, 1, 0, 1, 0, 1],\n",
              "       [1, 0, 1, 1, 1, 0, 1, 0, 0, 1, 0],\n",
              "       [1, 0, 1, 1, 0, 0, 1, 1, 1, 0, 0],\n",
              "       [0, 0, 0, 0, 1, 0, 0, 1, 1, 1, 0],\n",
              "       [0, 0, 0, 1, 1, 1, 1, 1, 0, 0, 0],\n",
              "       [0, 0, 0, 1, 1, 1, 0, 1, 0, 1, 0],\n",
              "       [0, 0, 0, 0, 1, 0, 1, 1, 1, 0, 0],\n",
              "       [1, 0, 1, 1, 0, 0, 1, 1, 0, 1, 1],\n",
              "       [0, 0, 0, 1, 1, 1, 0, 1, 1, 0, 1],\n",
              "       [1, 0, 1, 0, 0, 1, 1, 1, 0, 0, 0],\n",
              "       [1, 0, 1, 0, 0, 1, 1, 1, 1, 1, 1],\n",
              "       [0, 0, 0, 1, 0, 1, 0, 0, 1, 0, 0],\n",
              "       [0, 0, 0, 0, 1, 0, 1, 1, 0, 1, 1],\n",
              "       [0, 0, 0, 0, 1, 0, 0, 1, 0, 0, 1],\n",
              "       [1, 0, 1, 0, 1, 1, 0, 0, 0, 1, 1],\n",
              "       [1, 0, 1, 0, 0, 1, 0, 1, 0, 1, 0],\n",
              "       [1, 0, 1, 1, 1, 0, 0, 0, 1, 1, 1],\n",
              "       [1, 0, 1, 1, 1, 0, 0, 0, 0, 0, 0],\n",
              "       [1, 0, 1, 1, 1, 0, 1, 0, 1, 0, 1],\n",
              "       [0, 0, 0, 1, 0, 1, 1, 0, 0, 0, 1],\n",
              "       [1, 0, 1, 0, 1, 1, 1, 0, 1, 1, 0],\n",
              "       [1, 0, 1, 1, 0, 0, 0, 1, 1, 1, 0],\n",
              "       [1, 0, 1, 0, 1, 1, 1, 0, 0, 0, 1],\n",
              "       [0, 0, 0, 1, 0, 1, 1, 0, 1, 1, 0],\n",
              "       [1, 0, 1, 0, 0, 1, 0, 1, 1, 0, 1],\n",
              "       [0, 0, 0, 0, 0, 0, 0, 0, 1, 1, 1],\n",
              "       [1, 0, 1, 1, 0, 0, 0, 1, 0, 0, 1],\n",
              "       [0, 0, 0, 1, 0, 1, 0, 0, 0, 1, 1]])"
            ]
          },
          "metadata": {},
          "execution_count": 37
        }
      ]
    },
    {
      "cell_type": "markdown",
      "source": [
        "## 1.4.2 Взять все двоичные слова длины k, умножить каждое на G."
      ],
      "metadata": {
        "id": "DUNtHB5VKKnZ"
      }
    },
    {
      "cell_type": "code",
      "source": [
        "from itertools import product\n",
        "\n",
        "def generate_codewords_by_multiplication(G):\n",
        "    k = G.shape[0]\n",
        "\n",
        "    codewords = []\n",
        "    for binary_word in product([0, 1], repeat=k):\n",
        "        codeword = np.dot(binary_word, G) % 2\n",
        "        codewords.append(tuple(codeword))\n",
        "    return np.array(list(set(codewords)))\n",
        "\n",
        "generate_codewords_by_multiplication(G)"
      ],
      "metadata": {
        "colab": {
          "base_uri": "https://localhost:8080/"
        },
        "id": "Yx75bkalHKJi",
        "outputId": "3b7d8b00-7430-4638-9dfd-f41442603067"
      },
      "execution_count": 38,
      "outputs": [
        {
          "output_type": "execute_result",
          "data": {
            "text/plain": [
              "array([[0, 0, 0, 0, 0, 0, 1, 0, 0, 1, 0],\n",
              "       [0, 0, 0, 1, 1, 1, 1, 1, 1, 1, 1],\n",
              "       [1, 0, 1, 0, 1, 1, 0, 0, 1, 0, 0],\n",
              "       [0, 0, 0, 0, 0, 0, 1, 0, 1, 0, 1],\n",
              "       [1, 0, 1, 1, 1, 0, 1, 0, 0, 1, 0],\n",
              "       [1, 0, 1, 1, 0, 0, 1, 1, 1, 0, 0],\n",
              "       [0, 0, 0, 0, 1, 0, 0, 1, 1, 1, 0],\n",
              "       [0, 0, 0, 1, 1, 1, 1, 1, 0, 0, 0],\n",
              "       [0, 0, 0, 1, 1, 1, 0, 1, 0, 1, 0],\n",
              "       [0, 0, 0, 0, 1, 0, 1, 1, 1, 0, 0],\n",
              "       [1, 0, 1, 1, 0, 0, 1, 1, 0, 1, 1],\n",
              "       [0, 0, 0, 1, 1, 1, 0, 1, 1, 0, 1],\n",
              "       [1, 0, 1, 0, 0, 1, 1, 1, 0, 0, 0],\n",
              "       [1, 0, 1, 0, 0, 1, 1, 1, 1, 1, 1],\n",
              "       [0, 0, 0, 1, 0, 1, 0, 0, 1, 0, 0],\n",
              "       [0, 0, 0, 0, 1, 0, 1, 1, 0, 1, 1],\n",
              "       [0, 0, 0, 0, 1, 0, 0, 1, 0, 0, 1],\n",
              "       [1, 0, 1, 0, 1, 1, 0, 0, 0, 1, 1],\n",
              "       [1, 0, 1, 0, 0, 1, 0, 1, 0, 1, 0],\n",
              "       [0, 0, 0, 0, 0, 0, 0, 0, 0, 0, 0],\n",
              "       [1, 0, 1, 1, 1, 0, 0, 0, 1, 1, 1],\n",
              "       [1, 0, 1, 1, 1, 0, 0, 0, 0, 0, 0],\n",
              "       [1, 0, 1, 1, 1, 0, 1, 0, 1, 0, 1],\n",
              "       [0, 0, 0, 1, 0, 1, 1, 0, 0, 0, 1],\n",
              "       [1, 0, 1, 0, 1, 1, 1, 0, 1, 1, 0],\n",
              "       [1, 0, 1, 1, 0, 0, 0, 1, 1, 1, 0],\n",
              "       [0, 0, 0, 1, 0, 1, 1, 0, 1, 1, 0],\n",
              "       [1, 0, 1, 0, 1, 1, 1, 0, 0, 0, 1],\n",
              "       [1, 0, 1, 0, 0, 1, 0, 1, 1, 0, 1],\n",
              "       [0, 0, 0, 0, 0, 0, 0, 0, 1, 1, 1],\n",
              "       [1, 0, 1, 1, 0, 0, 0, 1, 0, 0, 1],\n",
              "       [0, 0, 0, 1, 0, 1, 0, 0, 0, 1, 1]])"
            ]
          },
          "metadata": {},
          "execution_count": 38
        }
      ]
    },
    {
      "cell_type": "markdown",
      "source": [
        "### Убедиться, что полученные множества кодовых слов совпадают"
      ],
      "metadata": {
        "id": "06NN_RhaSe7Z"
      }
    },
    {
      "cell_type": "code",
      "source": [
        "def check_codewords_with_H(codewords, H):\n",
        "    for word in codewords:\n",
        "        syndrome = np.dot(word, H) % 2\n",
        "        if np.any(syndrome != 0):\n",
        "            return False\n",
        "    return True\n",
        "\n",
        "codewords = generate_codewords_by_multiplication(G)\n",
        "is_good = check_codewords_with_H(codewords, H)\n",
        "print(f\"Корретные слова {is_good=}\")"
      ],
      "metadata": {
        "colab": {
          "base_uri": "https://localhost:8080/"
        },
        "id": "rvWWptIPSDHH",
        "outputId": "d6e8a190-cfe0-48ca-d7ce-18ea5e0d96d1"
      },
      "execution_count": 42,
      "outputs": [
        {
          "output_type": "stream",
          "name": "stdout",
          "text": [
            "Корретные слова is_good=True\n"
          ]
        }
      ]
    },
    {
      "cell_type": "markdown",
      "source": [
        "### Убедиться, что умножение кодовых слов на проверочную матрицу в результате даёт нулевые вектора"
      ],
      "metadata": {
        "id": "NvoUcfglShqG"
      }
    },
    {
      "cell_type": "code",
      "source": [
        "check_zero_matrix = []\n",
        "for code in set_code_word_k:\n",
        "    one_word = np.dot(code, H) % 2\n",
        "    check_zero_matrix.append(one_word)\n",
        "check_zero_matrix"
      ],
      "metadata": {
        "id": "miY4ASEPSi1k"
      },
      "execution_count": null,
      "outputs": []
    },
    {
      "cell_type": "markdown",
      "source": [
        "# 1.5 Вычислить кодовое расстояние получившегося кода."
      ],
      "metadata": {
        "id": "zO32oplqKQNV"
      }
    },
    {
      "cell_type": "code",
      "source": [
        "def hamming_distance(word1, word2):\n",
        "    return np.sum(np.array(word1) != np.array(word2))\n",
        "\n",
        "def get_code_distance(codewords):\n",
        "    min_distance = np.inf\n",
        "    for i in range(len(codewords)):\n",
        "        for j in range(i + 1, len(codewords)):\n",
        "            dist = hamming_distance(codewords[i], codewords[j])\n",
        "            if 0 < dist < min_distance:\n",
        "                min_distance = dist\n",
        "    return min_distance"
      ],
      "metadata": {
        "id": "-3B1ClklKdZp"
      },
      "execution_count": 46,
      "outputs": []
    },
    {
      "cell_type": "code",
      "source": [
        "d = get_code_distance(codewords)\n",
        "t = d - 1\n",
        "print(\"Result:\")\n",
        "print(\"d:\", d)\n",
        "print(\"t:\", t)"
      ],
      "metadata": {
        "colab": {
          "base_uri": "https://localhost:8080/"
        },
        "id": "PIP9BfStTnKI",
        "outputId": "ccf0eaaf-1296-44fe-ea52-c04f4e761532"
      },
      "execution_count": 48,
      "outputs": [
        {
          "output_type": "stream",
          "name": "stdout",
          "text": [
            "Result:\n",
            "d: 2\n",
            "t: 1\n"
          ]
        }
      ]
    },
    {
      "cell_type": "markdown",
      "source": [
        "## 1.5.1 Внести в кодовое слово ошибку кратности не более t, умножить полученное слово на H, убедиться в обнаружении ошибки."
      ],
      "metadata": {
        "id": "Za2Bz1A4KU2M"
      }
    },
    {
      "cell_type": "code",
      "source": [
        "def introduce_error(codeword, error_positions):\n",
        "    erroneous_word = np.array(codeword, dtype=int)\n",
        "    for pos in error_positions:\n",
        "        erroneous_word[pos] = (erroneous_word[pos] + 1) % 2  # Инверсия бита\n",
        "    return erroneous_word\n",
        "\n",
        "def detect_error_with_H(codeword, H):\n",
        "    syndrome = np.dot(codeword, H) % 2\n",
        "    return syndrome"
      ],
      "metadata": {
        "id": "g81yg1haUBAT"
      },
      "execution_count": 50,
      "outputs": []
    },
    {
      "cell_type": "code",
      "source": [
        "import random\n",
        "\n",
        "v = random.choice(codewords)\n",
        "t = 1\n",
        "\n",
        "error_positions_t = [random.randint(0, v.shape[0])]\n",
        "v_with_error_t = introduce_error(v, error_positions_t)\n",
        "\n",
        "# Проверяем обнаружение ошибки\n",
        "s_t = detect_error_with_H(v_with_error_t, H)\n",
        "print(\"Кодовое слово с ошибкой (кратности t):\", v_with_error_t)\n",
        "print(\"Синдром ошибки (кратность t):\", s_t)\n",
        "print('\\n-> '+(\"Ошибка обнаружена\" if np.any(s_t) else \"Ошибка не обнаружена\"))"
      ],
      "metadata": {
        "colab": {
          "base_uri": "https://localhost:8080/"
        },
        "id": "qZWa7NzCT2cm",
        "outputId": "ccd03850-d7b0-4eb5-db33-4b194e490c73"
      },
      "execution_count": 68,
      "outputs": [
        {
          "output_type": "stream",
          "name": "stdout",
          "text": [
            "Кодовое слово с ошибкой (кратности t): [1 0 1 1 1 1 0 0 0 0 0]\n",
            "Синдром ошибки (кратность t): [0 0 1 0 0 0]\n",
            "\n",
            "-> Ошибка обнаружена\n"
          ]
        }
      ]
    },
    {
      "cell_type": "markdown",
      "source": [
        "## 1.5.2 Найти для некоторого кодового слова ошибку кратности t+1 такую, что при умножении на H ошибка не может быть обнаружена"
      ],
      "metadata": {
        "id": "HGF1sKrwKZBs"
      }
    },
    {
      "cell_type": "code",
      "source": [
        "new_t = t + 1\n",
        "new_error_positions = [0, 2, 3, 4]\n",
        "\n",
        "new_v_with_error = introduce_error(v, new_error_positions)\n",
        "\n",
        "# Проверяем обнаружение ошибки\n",
        "s_t_plus_1 = detect_error_with_H(new_v_with_error, H)\n",
        "print(\"Кодовое слово с ошибкой (кратности t+1):\", new_v_with_error)\n",
        "print(\"Синдром ошибки (кратность t+1):\", s_t_plus_1)\n",
        "print('\\n-> '+(\"Ошибка обнаружена\" if np.any(s_t_plus_1) else \"Ошибка не обнаружена\"))"
      ],
      "metadata": {
        "id": "2UjK4p3rKdv3",
        "colab": {
          "base_uri": "https://localhost:8080/"
        },
        "outputId": "14da4ee8-f8e6-4584-a477-eed645cf3497"
      },
      "execution_count": 71,
      "outputs": [
        {
          "output_type": "stream",
          "name": "stdout",
          "text": [
            "Кодовое слово с ошибкой (кратности t+1): [0 0 0 0 0 0 0 0 0 0 0]\n",
            "Синдром ошибки (кратность t+1): [0 0 0 0 0 0]\n",
            "\n",
            "-> Ошибка не обнаружена\n"
          ]
        }
      ]
    }
  ]
}