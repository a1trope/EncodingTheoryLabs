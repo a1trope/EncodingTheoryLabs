{
  "cells": [
    {
      "cell_type": "code",
      "execution_count": null,
      "metadata": {
        "id": "B7fd_GEsqBaY"
      },
      "outputs": [],
      "source": [
        "import numpy as np"
      ]
    },
    {
      "cell_type": "markdown",
      "metadata": {
        "id": "HmkjTOZZqBaY"
      },
      "source": [
        "## 1) Сформировать порождающую матрицу линейного кода (7, 4, 3)"
      ]
    },
    {
      "cell_type": "code",
      "execution_count": null,
      "metadata": {
        "id": "MKU2PWSyqBaZ",
        "outputId": "1cf418ca-7366-46ac-e4eb-6b62f0c8707f"
      },
      "outputs": [
        {
          "data": {
            "text/plain": [
              "array([[1, 0, 0, 0, 1, 1, 0],\n",
              "       [0, 1, 0, 0, 1, 0, 1],\n",
              "       [0, 0, 1, 0, 0, 1, 1],\n",
              "       [0, 0, 0, 1, 1, 1, 1]])"
            ]
          },
          "execution_count": 162,
          "metadata": {},
          "output_type": "execute_result"
        }
      ],
      "source": [
        "I_k = np.eye(4, dtype=int)\n",
        "X = np.array([[1, 1, 0],\n",
        "              [1, 0, 1],\n",
        "              [0, 1, 1],\n",
        "              [1, 1, 1]], dtype=int)\n",
        "G = np.hstack((I_k, X))\n",
        "\n",
        "G"
      ]
    },
    {
      "cell_type": "markdown",
      "metadata": {
        "id": "A6IxSI-wqBaa"
      },
      "source": [
        "## 2) Сформировать проверочную матрицу на основе порождающей"
      ]
    },
    {
      "cell_type": "code",
      "execution_count": null,
      "metadata": {
        "id": "8O8G4iviqBaa",
        "outputId": "f35ebfa8-ca67-4f8b-cd01-4fc78dc846b7"
      },
      "outputs": [
        {
          "data": {
            "text/plain": [
              "array([[1, 0, 0],\n",
              "       [0, 1, 0],\n",
              "       [0, 0, 1],\n",
              "       [1, 1, 0],\n",
              "       [1, 0, 1],\n",
              "       [0, 1, 1],\n",
              "       [1, 1, 1]])"
            ]
          },
          "execution_count": 163,
          "metadata": {},
          "output_type": "execute_result"
        }
      ],
      "source": [
        "H = np.vstack((np.eye(3, dtype=int), X))\n",
        "\n",
        "H"
      ]
    },
    {
      "cell_type": "markdown",
      "metadata": {
        "id": "qKd3q6-FqBaa"
      },
      "source": [
        "## 3) Сформировать таблицу синдромов для всех однократных ошибок"
      ]
    },
    {
      "cell_type": "code",
      "execution_count": null,
      "metadata": {
        "id": "tsBhUJHFqBaa",
        "outputId": "98f85327-da2d-4598-feb9-997ff8adbf63"
      },
      "outputs": [
        {
          "data": {
            "text/plain": [
              "{(1, 0, 0): array([1, 0, 0, 0, 0, 0, 0]),\n",
              " (0, 1, 0): array([0, 1, 0, 0, 0, 0, 0]),\n",
              " (0, 0, 1): array([0, 0, 1, 0, 0, 0, 0]),\n",
              " (1, 1, 0): array([0, 0, 0, 1, 0, 0, 0]),\n",
              " (1, 0, 1): array([0, 0, 0, 0, 1, 0, 0]),\n",
              " (0, 1, 1): array([0, 0, 0, 0, 0, 1, 0]),\n",
              " (1, 1, 1): array([0, 0, 0, 0, 0, 0, 1])}"
            ]
          },
          "execution_count": 164,
          "metadata": {},
          "output_type": "execute_result"
        }
      ],
      "source": [
        "error_patterns = np.eye(7, dtype=int)\n",
        "syndrome_table = {}\n",
        "for i in range(7):\n",
        "    syndrome = error_patterns[i] @ H % 2\n",
        "    syndrome_table[tuple(syndrome)] = error_patterns[i]\n",
        "\n",
        "syndrome_table"
      ]
    },
    {
      "cell_type": "markdown",
      "metadata": {
        "id": "05HXv9eoqBaa"
      },
      "source": [
        "## 4) Сформировать кодовое слово длины n из слова длины k. Внести однократную ошибку в сформированное слово. Вычислить синдром, исправить ошибку с использованием таблицы синдромов. Убедиться в правильности полученного слова"
      ]
    },
    {
      "cell_type": "code",
      "execution_count": null,
      "metadata": {
        "id": "ClGP7CJMqBab",
        "outputId": "002665bf-7579-471f-f34d-6e2addaaa5bb"
      },
      "outputs": [
        {
          "name": "stdout",
          "output_type": "stream",
          "text": [
            "Начальное кодовое слово:      [1 1 1 1 1 1 1]\n",
            "Кодовое слово с ошибкой:      [1 1 1 1 0 1 1]\n",
            "Ошибка исправлена:            True\n"
          ]
        }
      ],
      "source": [
        "# Кодируем слово\n",
        "k_word = np.array([1, 1, 1, 1])\n",
        "code_word = k_word @ G % 2\n",
        "\n",
        "# Вносим однократную ошибку\n",
        "error = np.array([0, 0, 0, 0, 1, 0, 0])\n",
        "received_word = (code_word + error) % 2\n",
        "\n",
        "# Вычисляем синдром и исправляем ошибку\n",
        "syndrome = received_word @ H % 2\n",
        "if tuple(syndrome) in syndrome_table:\n",
        "    error_position = syndrome_table[tuple(syndrome)]\n",
        "    corrected_word = (received_word + error_position) % 2\n",
        "else:\n",
        "    corrected_word = received_word\n",
        "\n",
        "# Проверка\n",
        "print(\"Начальное кодовое слово:     \", code_word)\n",
        "print(\"Кодовое слово с ошибкой:     \", received_word)\n",
        "print(\"Ошибка исправлена:           \", np.array_equal(code_word, corrected_word))"
      ]
    },
    {
      "cell_type": "markdown",
      "metadata": {
        "id": "uM5KESjGqBab"
      },
      "source": [
        "## 5) Сформировать кодовое слово длины n из слова длины k. Внести двукратную ошибку в сформированное слово. Вычислить синдром, исправить ошибку с использованием таблицы синдромов. Убедиться, что полученное слово отличается от отправленного."
      ]
    },
    {
      "cell_type": "code",
      "execution_count": null,
      "metadata": {
        "id": "5SIpVVC6qBab",
        "outputId": "30521b48-9857-4b25-bc11-46ac6f179875"
      },
      "outputs": [
        {
          "name": "stdout",
          "output_type": "stream",
          "text": [
            "Начальное кодовое слово:      [1 1 1 1 1 1 1]\n",
            "Кодовое слово с ошибкой:      [1 1 1 0 0 1 1]\n",
            "Ошибка исправлена:            False\n"
          ]
        }
      ],
      "source": [
        "double_error = np.array([0, 0, 0, 1, 1, 0, 0])\n",
        "received_word_double_error = (code_word + double_error) % 2\n",
        "\n",
        "syndrome_double_error = received_word_double_error @ H % 2\n",
        "if tuple(syndrome_double_error) in syndrome_table:\n",
        "    error_position = syndrome_table[tuple(syndrome_double_error)]\n",
        "    corrected_word_double = (received_word_double_error + error_position) % 2\n",
        "else:\n",
        "    corrected_word_double = received_word_double_error\n",
        "\n",
        "print(\"Начальное кодовое слово:     \", code_word)\n",
        "print(\"Кодовое слово с ошибкой:     \", received_word_double_error)\n",
        "print(\"Ошибка исправлена:           \", np.array_equal(code_word, corrected_word_double))"
      ]
    },
    {
      "cell_type": "markdown",
      "metadata": {
        "id": "vznWrvAqqBab"
      },
      "source": [
        "##6) Сформировать порождающую матрицу линейного кода (n, k, 5)"
      ]
    },
    {
      "cell_type": "code",
      "execution_count": null,
      "metadata": {
        "id": "bve45ZwpqBab",
        "outputId": "d2adcd8c-15a3-45da-d870-67e9adf31a9c"
      },
      "outputs": [
        {
          "data": {
            "text/plain": [
              "array([[1, 0, 0, 0, 1, 1, 1, 1, 0, 0, 0, 0],\n",
              "       [0, 1, 0, 0, 0, 0, 0, 0, 1, 1, 1, 1],\n",
              "       [0, 0, 1, 0, 0, 0, 1, 1, 0, 0, 1, 1],\n",
              "       [0, 0, 0, 1, 1, 0, 1, 0, 1, 0, 1, 0]])"
            ]
          },
          "execution_count": 167,
          "metadata": {},
          "output_type": "execute_result"
        }
      ],
      "source": [
        "n = 12\n",
        "k = 4\n",
        "I_k = np.eye(k, dtype=int)\n",
        "X = np.array([\n",
        "    [1, 1, 1, 1, 0, 0, 0, 0],\n",
        "    [0, 0, 0, 0, 1, 1, 1, 1],\n",
        "    [0, 0, 1, 1, 0, 0, 1, 1],\n",
        "    [1, 0, 1, 0, 1, 0, 1, 0],\n",
        "], dtype=int)\n",
        "G = np.hstack((I_k, X))\n",
        "\n",
        "G"
      ]
    },
    {
      "cell_type": "markdown",
      "metadata": {
        "id": "JpMd-lkMqBac"
      },
      "source": [
        "## 7) Сформировать проверочную матрицу на основе порождающей"
      ]
    },
    {
      "cell_type": "code",
      "execution_count": null,
      "metadata": {
        "id": "tE1nOtmkqBac",
        "outputId": "b6989aaf-ac2b-4935-8ac5-2f6043b70874"
      },
      "outputs": [
        {
          "data": {
            "text/plain": [
              "array([[1, 1, 1, 1, 0, 0, 0, 0],\n",
              "       [0, 0, 0, 0, 1, 1, 1, 1],\n",
              "       [0, 0, 1, 1, 0, 0, 1, 1],\n",
              "       [1, 0, 1, 0, 1, 0, 1, 0],\n",
              "       [1, 0, 0, 0, 0, 0, 0, 0],\n",
              "       [0, 1, 0, 0, 0, 0, 0, 0],\n",
              "       [0, 0, 1, 0, 0, 0, 0, 0],\n",
              "       [0, 0, 0, 1, 0, 0, 0, 0],\n",
              "       [0, 0, 0, 0, 1, 0, 0, 0],\n",
              "       [0, 0, 0, 0, 0, 1, 0, 0],\n",
              "       [0, 0, 0, 0, 0, 0, 1, 0],\n",
              "       [0, 0, 0, 0, 0, 0, 0, 1]])"
            ]
          },
          "execution_count": 168,
          "metadata": {},
          "output_type": "execute_result"
        }
      ],
      "source": [
        "H = np.vstack((X, np.eye(n - k, dtype=int)))\n",
        "\n",
        "H"
      ]
    },
    {
      "cell_type": "markdown",
      "metadata": {
        "id": "X5peQ3xSqBac"
      },
      "source": [
        "## 8 Сформировать таблицу синдромов для всех однократных и двукратных ошибок"
      ]
    },
    {
      "cell_type": "code",
      "execution_count": null,
      "metadata": {
        "id": "rDAs_PAoqBac",
        "outputId": "64b1a199-ce62-4e65-d17a-de881f9f59b9"
      },
      "outputs": [
        {
          "data": {
            "text/plain": [
              "{(1, 1, 1, 1, 0, 0, 0, 0): array([1, 0, 0, 0, 0, 0, 0, 0, 0, 0, 0, 0]),\n",
              " (1, 1, 1, 1, 1, 1, 1, 1): array([1, 1, 0, 0, 0, 0, 0, 0, 0, 0, 0, 0]),\n",
              " (1, 1, 0, 0, 0, 0, 1, 1): array([1, 0, 1, 0, 0, 0, 0, 0, 0, 0, 0, 0]),\n",
              " (0, 1, 0, 1, 1, 0, 1, 0): array([1, 0, 0, 1, 0, 0, 0, 0, 0, 0, 0, 0]),\n",
              " (0, 1, 1, 1, 0, 0, 0, 0): array([1, 0, 0, 0, 1, 0, 0, 0, 0, 0, 0, 0]),\n",
              " (1, 0, 1, 1, 0, 0, 0, 0): array([1, 0, 0, 0, 0, 1, 0, 0, 0, 0, 0, 0]),\n",
              " (1, 1, 0, 1, 0, 0, 0, 0): array([1, 0, 0, 0, 0, 0, 1, 0, 0, 0, 0, 0]),\n",
              " (1, 1, 1, 0, 0, 0, 0, 0): array([1, 0, 0, 0, 0, 0, 0, 1, 0, 0, 0, 0]),\n",
              " (1, 1, 1, 1, 1, 0, 0, 0): array([1, 0, 0, 0, 0, 0, 0, 0, 1, 0, 0, 0]),\n",
              " (1, 1, 1, 1, 0, 1, 0, 0): array([1, 0, 0, 0, 0, 0, 0, 0, 0, 1, 0, 0]),\n",
              " (1, 1, 1, 1, 0, 0, 1, 0): array([1, 0, 0, 0, 0, 0, 0, 0, 0, 0, 1, 0]),\n",
              " (1, 1, 1, 1, 0, 0, 0, 1): array([1, 0, 0, 0, 0, 0, 0, 0, 0, 0, 0, 1]),\n",
              " (0, 0, 0, 0, 1, 1, 1, 1): array([0, 1, 0, 0, 0, 0, 0, 0, 0, 0, 0, 0]),\n",
              " (0, 0, 1, 1, 1, 1, 0, 0): array([0, 1, 1, 0, 0, 0, 0, 0, 0, 0, 0, 0]),\n",
              " (1, 0, 1, 0, 0, 1, 0, 1): array([0, 1, 0, 1, 0, 0, 0, 0, 0, 0, 0, 0]),\n",
              " (1, 0, 0, 0, 1, 1, 1, 1): array([0, 1, 0, 0, 1, 0, 0, 0, 0, 0, 0, 0]),\n",
              " (0, 1, 0, 0, 1, 1, 1, 1): array([0, 1, 0, 0, 0, 1, 0, 0, 0, 0, 0, 0]),\n",
              " (0, 0, 1, 0, 1, 1, 1, 1): array([0, 1, 0, 0, 0, 0, 1, 0, 0, 0, 0, 0]),\n",
              " (0, 0, 0, 1, 1, 1, 1, 1): array([0, 1, 0, 0, 0, 0, 0, 1, 0, 0, 0, 0]),\n",
              " (0, 0, 0, 0, 0, 1, 1, 1): array([0, 1, 0, 0, 0, 0, 0, 0, 1, 0, 0, 0]),\n",
              " (0, 0, 0, 0, 1, 0, 1, 1): array([0, 1, 0, 0, 0, 0, 0, 0, 0, 1, 0, 0]),\n",
              " (0, 0, 0, 0, 1, 1, 0, 1): array([0, 1, 0, 0, 0, 0, 0, 0, 0, 0, 1, 0]),\n",
              " (0, 0, 0, 0, 1, 1, 1, 0): array([0, 1, 0, 0, 0, 0, 0, 0, 0, 0, 0, 1]),\n",
              " (0, 0, 1, 1, 0, 0, 1, 1): array([0, 0, 1, 0, 0, 0, 0, 0, 0, 0, 0, 0]),\n",
              " (1, 0, 0, 1, 1, 0, 0, 1): array([0, 0, 1, 1, 0, 0, 0, 0, 0, 0, 0, 0]),\n",
              " (1, 0, 1, 1, 0, 0, 1, 1): array([0, 0, 1, 0, 1, 0, 0, 0, 0, 0, 0, 0]),\n",
              " (0, 1, 1, 1, 0, 0, 1, 1): array([0, 0, 1, 0, 0, 1, 0, 0, 0, 0, 0, 0]),\n",
              " (0, 0, 0, 1, 0, 0, 1, 1): array([0, 0, 1, 0, 0, 0, 1, 0, 0, 0, 0, 0]),\n",
              " (0, 0, 1, 0, 0, 0, 1, 1): array([0, 0, 1, 0, 0, 0, 0, 1, 0, 0, 0, 0]),\n",
              " (0, 0, 1, 1, 1, 0, 1, 1): array([0, 0, 1, 0, 0, 0, 0, 0, 1, 0, 0, 0]),\n",
              " (0, 0, 1, 1, 0, 1, 1, 1): array([0, 0, 1, 0, 0, 0, 0, 0, 0, 1, 0, 0]),\n",
              " (0, 0, 1, 1, 0, 0, 0, 1): array([0, 0, 1, 0, 0, 0, 0, 0, 0, 0, 1, 0]),\n",
              " (0, 0, 1, 1, 0, 0, 1, 0): array([0, 0, 1, 0, 0, 0, 0, 0, 0, 0, 0, 1]),\n",
              " (1, 0, 1, 0, 1, 0, 1, 0): array([0, 0, 0, 1, 0, 0, 0, 0, 0, 0, 0, 0]),\n",
              " (0, 0, 1, 0, 1, 0, 1, 0): array([0, 0, 0, 1, 1, 0, 0, 0, 0, 0, 0, 0]),\n",
              " (1, 1, 1, 0, 1, 0, 1, 0): array([0, 0, 0, 1, 0, 1, 0, 0, 0, 0, 0, 0]),\n",
              " (1, 0, 0, 0, 1, 0, 1, 0): array([0, 0, 0, 1, 0, 0, 1, 0, 0, 0, 0, 0]),\n",
              " (1, 0, 1, 1, 1, 0, 1, 0): array([0, 0, 0, 1, 0, 0, 0, 1, 0, 0, 0, 0]),\n",
              " (1, 0, 1, 0, 0, 0, 1, 0): array([0, 0, 0, 1, 0, 0, 0, 0, 1, 0, 0, 0]),\n",
              " (1, 0, 1, 0, 1, 1, 1, 0): array([0, 0, 0, 1, 0, 0, 0, 0, 0, 1, 0, 0]),\n",
              " (1, 0, 1, 0, 1, 0, 0, 0): array([0, 0, 0, 1, 0, 0, 0, 0, 0, 0, 1, 0]),\n",
              " (1, 0, 1, 0, 1, 0, 1, 1): array([0, 0, 0, 1, 0, 0, 0, 0, 0, 0, 0, 1]),\n",
              " (1, 0, 0, 0, 0, 0, 0, 0): array([0, 0, 0, 0, 1, 0, 0, 0, 0, 0, 0, 0]),\n",
              " (1, 1, 0, 0, 0, 0, 0, 0): array([0, 0, 0, 0, 1, 1, 0, 0, 0, 0, 0, 0]),\n",
              " (1, 0, 1, 0, 0, 0, 0, 0): array([0, 0, 0, 0, 1, 0, 1, 0, 0, 0, 0, 0]),\n",
              " (1, 0, 0, 1, 0, 0, 0, 0): array([0, 0, 0, 0, 1, 0, 0, 1, 0, 0, 0, 0]),\n",
              " (1, 0, 0, 0, 1, 0, 0, 0): array([0, 0, 0, 0, 1, 0, 0, 0, 1, 0, 0, 0]),\n",
              " (1, 0, 0, 0, 0, 1, 0, 0): array([0, 0, 0, 0, 1, 0, 0, 0, 0, 1, 0, 0]),\n",
              " (1, 0, 0, 0, 0, 0, 1, 0): array([0, 0, 0, 0, 1, 0, 0, 0, 0, 0, 1, 0]),\n",
              " (1, 0, 0, 0, 0, 0, 0, 1): array([0, 0, 0, 0, 1, 0, 0, 0, 0, 0, 0, 1]),\n",
              " (0, 1, 0, 0, 0, 0, 0, 0): array([0, 0, 0, 0, 0, 1, 0, 0, 0, 0, 0, 0]),\n",
              " (0, 1, 1, 0, 0, 0, 0, 0): array([0, 0, 0, 0, 0, 1, 1, 0, 0, 0, 0, 0]),\n",
              " (0, 1, 0, 1, 0, 0, 0, 0): array([0, 0, 0, 0, 0, 1, 0, 1, 0, 0, 0, 0]),\n",
              " (0, 1, 0, 0, 1, 0, 0, 0): array([0, 0, 0, 0, 0, 1, 0, 0, 1, 0, 0, 0]),\n",
              " (0, 1, 0, 0, 0, 1, 0, 0): array([0, 0, 0, 0, 0, 1, 0, 0, 0, 1, 0, 0]),\n",
              " (0, 1, 0, 0, 0, 0, 1, 0): array([0, 0, 0, 0, 0, 1, 0, 0, 0, 0, 1, 0]),\n",
              " (0, 1, 0, 0, 0, 0, 0, 1): array([0, 0, 0, 0, 0, 1, 0, 0, 0, 0, 0, 1]),\n",
              " (0, 0, 1, 0, 0, 0, 0, 0): array([0, 0, 0, 0, 0, 0, 1, 0, 0, 0, 0, 0]),\n",
              " (0, 0, 1, 1, 0, 0, 0, 0): array([0, 0, 0, 0, 0, 0, 1, 1, 0, 0, 0, 0]),\n",
              " (0, 0, 1, 0, 1, 0, 0, 0): array([0, 0, 0, 0, 0, 0, 1, 0, 1, 0, 0, 0]),\n",
              " (0, 0, 1, 0, 0, 1, 0, 0): array([0, 0, 0, 0, 0, 0, 1, 0, 0, 1, 0, 0]),\n",
              " (0, 0, 1, 0, 0, 0, 1, 0): array([0, 0, 0, 0, 0, 0, 1, 0, 0, 0, 1, 0]),\n",
              " (0, 0, 1, 0, 0, 0, 0, 1): array([0, 0, 0, 0, 0, 0, 1, 0, 0, 0, 0, 1]),\n",
              " (0, 0, 0, 1, 0, 0, 0, 0): array([0, 0, 0, 0, 0, 0, 0, 1, 0, 0, 0, 0]),\n",
              " (0, 0, 0, 1, 1, 0, 0, 0): array([0, 0, 0, 0, 0, 0, 0, 1, 1, 0, 0, 0]),\n",
              " (0, 0, 0, 1, 0, 1, 0, 0): array([0, 0, 0, 0, 0, 0, 0, 1, 0, 1, 0, 0]),\n",
              " (0, 0, 0, 1, 0, 0, 1, 0): array([0, 0, 0, 0, 0, 0, 0, 1, 0, 0, 1, 0]),\n",
              " (0, 0, 0, 1, 0, 0, 0, 1): array([0, 0, 0, 0, 0, 0, 0, 1, 0, 0, 0, 1]),\n",
              " (0, 0, 0, 0, 1, 0, 0, 0): array([0, 0, 0, 0, 0, 0, 0, 0, 1, 0, 0, 0]),\n",
              " (0, 0, 0, 0, 1, 1, 0, 0): array([0, 0, 0, 0, 0, 0, 0, 0, 1, 1, 0, 0]),\n",
              " (0, 0, 0, 0, 1, 0, 1, 0): array([0, 0, 0, 0, 0, 0, 0, 0, 1, 0, 1, 0]),\n",
              " (0, 0, 0, 0, 1, 0, 0, 1): array([0, 0, 0, 0, 0, 0, 0, 0, 1, 0, 0, 1]),\n",
              " (0, 0, 0, 0, 0, 1, 0, 0): array([0, 0, 0, 0, 0, 0, 0, 0, 0, 1, 0, 0]),\n",
              " (0, 0, 0, 0, 0, 1, 1, 0): array([0, 0, 0, 0, 0, 0, 0, 0, 0, 1, 1, 0]),\n",
              " (0, 0, 0, 0, 0, 1, 0, 1): array([0, 0, 0, 0, 0, 0, 0, 0, 0, 1, 0, 1]),\n",
              " (0, 0, 0, 0, 0, 0, 1, 0): array([0, 0, 0, 0, 0, 0, 0, 0, 0, 0, 1, 0]),\n",
              " (0, 0, 0, 0, 0, 0, 1, 1): array([0, 0, 0, 0, 0, 0, 0, 0, 0, 0, 1, 1]),\n",
              " (0, 0, 0, 0, 0, 0, 0, 1): array([0, 0, 0, 0, 0, 0, 0, 0, 0, 0, 0, 1])}"
            ]
          },
          "execution_count": 169,
          "metadata": {},
          "output_type": "execute_result"
        }
      ],
      "source": [
        "syndroms = dict()\n",
        "\n",
        "for i in range(H.shape[0]):\n",
        "    for j in range(i, H.shape[0]):\n",
        "        if i == j:\n",
        "            error = np.zeros(n, dtype=int)\n",
        "            error[i] = 1\n",
        "            syndroms[tuple(H[i, :])] = error\n",
        "        else:\n",
        "            error = np.zeros(n, dtype=int)\n",
        "            error[i] = 1\n",
        "            error[j] = 1\n",
        "            syndroms[tuple((H[i, :] + H[j, :]) % 2)] = error\n",
        "\n",
        "syndroms"
      ]
    },
    {
      "cell_type": "markdown",
      "metadata": {
        "id": "TCO0CxVAqBac"
      },
      "source": [
        "## 9 Сформировать кодовое слово длины n из слова длины k. Внести однократную ошибку в сформированное слово. Вычислить синдром, исправить ошибку с использованием таблицы синдромов. Убедиться в правильности полученного слова"
      ]
    },
    {
      "cell_type": "code",
      "execution_count": null,
      "metadata": {
        "id": "zGmBRWLtqBac",
        "outputId": "0c6f8a55-7cc5-4479-ef3d-57169f351791"
      },
      "outputs": [
        {
          "name": "stdout",
          "output_type": "stream",
          "text": [
            "Начальное кодовое слово:      [1 0 0 0 1 1 1 1 0 0 0 0]\n",
            "Кодовое слово с ошибкой:      [1 0 0 0 1 1 0 1 0 0 0 0]\n",
            "Ошибка исправлена:            True\n"
          ]
        }
      ],
      "source": [
        "# Кодируем слово\n",
        "k_word = np.array([1, 0, 0, 0])\n",
        "code_word = k_word @ G % 2\n",
        "\n",
        "# Вносим однократную ошибку\n",
        "error = np.array([0, 0, 0, 0, 0, 0, 1, 0, 0, 0, 0, 0])\n",
        "received_word = (code_word + error) % 2\n",
        "\n",
        "# Вычисляем синдром и исправляем ошибку\n",
        "syndrome = received_word @ H % 2\n",
        "if tuple(syndrome) in syndroms:\n",
        "    syndrome_error = syndroms[tuple(syndrome)]\n",
        "    corrected_word = (received_word + syndrome_error) % 2\n",
        "else:\n",
        "    corrected_word = received_word\n",
        "\n",
        "# Проверка\n",
        "print(\"Начальное кодовое слово:     \", code_word)\n",
        "print(\"Кодовое слово с ошибкой:     \", received_word)\n",
        "print(\"Ошибка исправлена:           \", np.array_equal(code_word, corrected_word))"
      ]
    },
    {
      "cell_type": "markdown",
      "metadata": {
        "id": "jslGj9mpqBad"
      },
      "source": [
        "## 10) Сформировать кодовое слово длины n из слова длины k. Внести двукратную ошибку в сформированное слово. Вычислить синдром, исправить ошибку с использованием таблицы синдромов. Убедиться в правильности полученного слова"
      ]
    },
    {
      "cell_type": "code",
      "execution_count": null,
      "metadata": {
        "id": "BI9h2DVcqBad",
        "outputId": "3c9ea914-0480-42ec-dfee-a3230eefc5cd"
      },
      "outputs": [
        {
          "name": "stdout",
          "output_type": "stream",
          "text": [
            "Начальное кодовое слово:      [1 0 0 0 1 1 1 1 0 0 0 0]\n",
            "Кодовое слово с ошибкой:      [1 0 0 0 1 0 0 1 0 0 0 0]\n",
            "Ошибка исправлена:            True\n"
          ]
        }
      ],
      "source": [
        "error = np.array([0, 0, 0, 0, 0, 1, 1, 0, 0, 0, 0, 0])\n",
        "received_word = (code_word + error) % 2\n",
        "\n",
        "syndrome = received_word @ H % 2\n",
        "if tuple(syndrome) in syndroms:\n",
        "    syndrome_error = syndroms[tuple(syndrome)]\n",
        "    corrected_word = (received_word + syndrome_error) % 2\n",
        "else:\n",
        "    corrected_word = received_word\n",
        "\n",
        "print(\"Начальное кодовое слово:     \", code_word)\n",
        "print(\"Кодовое слово с ошибкой:     \", received_word)\n",
        "print(\"Ошибка исправлена:           \", np.array_equal(code_word, corrected_word))"
      ]
    },
    {
      "cell_type": "markdown",
      "metadata": {
        "id": "5AGIN3W0qBad"
      },
      "source": [
        "## 11) Сформировать кодовое слово длины n из слова длины k. Внести трёхкратную ошибку в сформированное слово. Вычислить синдром, исправить ошибку с использованием таблицы синдромов. Убедиться, что полученное слово отличается от отправленного"
      ]
    },
    {
      "cell_type": "code",
      "execution_count": null,
      "metadata": {
        "id": "HltXdkU9qBad",
        "outputId": "59fef482-0adb-4be5-b480-a8806812545c"
      },
      "outputs": [
        {
          "name": "stdout",
          "output_type": "stream",
          "text": [
            "Начальное кодовое слово:      [1 0 0 0 1 1 1 1 0 0 0 0]\n",
            "Кодовое слово с ошибкой:      [1 0 0 0 0 0 0 1 0 0 0 0]\n",
            "Ошибка исправлена:            False\n"
          ]
        }
      ],
      "source": [
        "error = np.array([0, 0, 0, 0, 1, 1, 1, 0, 0, 0, 0, 0])\n",
        "received_word = (code_word + error) % 2\n",
        "\n",
        "syndrome = received_word @ H % 2\n",
        "if tuple(syndrome) in syndroms:\n",
        "    syndrome_error = syndroms[tuple(syndrome)]\n",
        "    corrected_word = (received_word + syndrome_error) % 2\n",
        "else:\n",
        "    corrected_word = received_word\n",
        "\n",
        "print(\"Начальное кодовое слово:     \", code_word)\n",
        "print(\"Кодовое слово с ошибкой:     \", received_word)\n",
        "print(\"Ошибка исправлена:           \", np.array_equal(code_word, corrected_word))"
      ]
    }
  ],
  "metadata": {
    "kernelspec": {
      "display_name": "Python 3",
      "language": "python",
      "name": "python3"
    },
    "language_info": {
      "codemirror_mode": {
        "name": "ipython",
        "version": 3
      },
      "file_extension": ".py",
      "mimetype": "text/x-python",
      "name": "python",
      "nbconvert_exporter": "python",
      "pygments_lexer": "ipython3",
      "version": "3.12.3"
    },
    "colab": {
      "provenance": [],
      "toc_visible": true
    }
  },
  "nbformat": 4,
  "nbformat_minor": 0
}